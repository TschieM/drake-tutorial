{
 "cells": [
  {
   "cell_type": "markdown",
   "metadata": {},
   "source": [
    "# Introduction\n",
    "\n",
    "Simulator is the engine to simulate the diagram. Using the diagram built from the previous tutorial"
   ]
  },
  {
   "cell_type": "code",
   "execution_count": null,
   "metadata": {},
   "outputs": [],
   "source": [
    "from pydrake.systems.framework import DiagramBuilder\n",
    "from pydrake.systems.primitives import Adder, Gain\n",
    "\n",
    "builder = DiagramBuilder()\n",
    "adder = Adder(num_inputs=2, size=1)\n",
    "gain = Gain(k=2, size=1)\n",
    "builder.AddSystem(adder)\n",
    "builder.AddSystem(gain)\n",
    "builder.Connect(adder.GetOutputPort(\"sum\"), gain.GetInputPort(\"u0\"))\n",
    "builder.ExportInput(adder.GetInputPort(\"u0\"))\n",
    "builder.ExportInput(adder.GetInputPort(\"u1\"))\n",
    "builder.ExportOutput(gain.GetOutputPort(\"y0\"))\n",
    "diagram = builder.Build()"
   ]
  },
  {
   "cell_type": "markdown",
   "metadata": {},
   "source": [
    "Create a simulator for the diagram aboved"
   ]
  },
  {
   "cell_type": "code",
   "execution_count": null,
   "metadata": {},
   "outputs": [],
   "source": [
    "from pydrake.systems.analysis import Simulator\n",
    "\n",
    "simulator = Simulator(diagram)"
   ]
  },
  {
   "cell_type": "markdown",
   "metadata": {},
   "source": [
    "All the numerical information including the IO port, diagram's state information, simulation time are stored in the simulator's context. The default context is created when the simulator is constructed. The context can be extracted via the method get_mutable_context() or get_context(). \"mutable\" means the returned context is writable, while without \"mutable\" the context returned is readonly"
   ]
  },
  {
   "cell_type": "code",
   "execution_count": null,
   "metadata": {},
   "outputs": [],
   "source": [
    "context = simulator.get_mutable_context()"
   ]
  },
  {
   "cell_type": "markdown",
   "metadata": {},
   "source": [
    "Now to pass some input value to the diagram. The input port a acquired via their index. The index are numbered according to the sequence how they are exported to the diagram. In the example, we exported u0 then u1, so input port 0 is for u0 and input port 1 is for u1."
   ]
  },
  {
   "cell_type": "code",
   "execution_count": null,
   "metadata": {},
   "outputs": [],
   "source": [
    "diagram.get_input_port(0).FixValue(context, 1.5)\n",
    "diagram.get_input_port(1).FixValue(context, 1.7)"
   ]
  },
  {
   "cell_type": "markdown",
   "metadata": {},
   "source": [
    "Run the simulation for 0.2s."
   ]
  },
  {
   "cell_type": "code",
   "execution_count": null,
   "metadata": {},
   "outputs": [],
   "source": [
    "simulator.AdvanceTo(0.2)"
   ]
  },
  {
   "cell_type": "markdown",
   "metadata": {},
   "source": [
    "Now we can introspect the result. We should expect the ouput to be (1.5+1.7)*2 = 6.4"
   ]
  },
  {
   "cell_type": "code",
   "execution_count": null,
   "metadata": {},
   "outputs": [],
   "source": [
    "output = diagram.get_output_port(0).Eval(context)\n",
    "print(output)"
   ]
  },
  {
   "cell_type": "markdown",
   "metadata": {},
   "source": [
    "# Simulator Configuration\n",
    " \n",
    "The step size, ode solver, etc can be configured. But first let's have a look what are the default values"
   ]
  },
  {
   "cell_type": "code",
   "execution_count": null,
   "metadata": {},
   "outputs": [],
   "source": [
    "from pydrake.systems.analysis import ExtractSimulatorConfig\n",
    "\n",
    "defaultConfig = ExtractSimulatorConfig(simulator)\n",
    "print(defaultConfig)"
   ]
  },
  {
   "cell_type": "markdown",
   "metadata": {},
   "source": [
    "It is possible to change the default configuration"
   ]
  },
  {
   "cell_type": "code",
   "execution_count": null,
   "metadata": {},
   "outputs": [],
   "source": [
    "from pydrake.systems.analysis import SimulatorConfig, ApplySimulatorConfig\n",
    "\n",
    "userConfig = SimulatorConfig(integration_scheme='runge_kutta5')\n",
    "ApplySimulatorConfig(userConfig, simulator)\n",
    "\n",
    "print(ExtractSimulatorConfig(simulator))"
   ]
  }
 ],
 "metadata": {
  "kernelspec": {
   "display_name": ".venv",
   "language": "python",
   "name": "python3"
  },
  "language_info": {
   "codemirror_mode": {
    "name": "ipython",
    "version": 3
   },
   "file_extension": ".py",
   "mimetype": "text/x-python",
   "name": "python",
   "nbconvert_exporter": "python",
   "pygments_lexer": "ipython3",
   "version": "3.11.7"
  }
 },
 "nbformat": 4,
 "nbformat_minor": 2
}
