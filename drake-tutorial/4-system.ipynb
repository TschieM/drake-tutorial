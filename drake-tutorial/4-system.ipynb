{
 "cells": [
  {
   "cell_type": "markdown",
   "metadata": {},
   "source": [
    "# Introduction\n",
    "\n",
    "Besides all the library systems provided by drake, it is also possible to create our own systems. All the systems has to be derived from the base system LeafSystem."
   ]
  },
  {
   "cell_type": "markdown",
   "metadata": {},
   "source": [
    "In example, we can define a gain system that does the same as is provided by the drake library."
   ]
  },
  {
   "cell_type": "code",
   "execution_count": 2,
   "id": "b6b00728-50a3-410f-b3f3-9d9547bcf2e9",
   "metadata": {},
   "outputs": [],
   "source": [
    "from pydrake.systems.framework import LeafSystem\n",
    "\n",
    "class Gain(LeafSystem):\n",
    "    def __init__(self, gain):\n",
    "        LeafSystem.__init__(self)\n",
    "\n",
    "        self.gain = gain\n",
    "\n",
    "        self._in_port = self.DeclareVectorInputPort(name=\"in\", size=1)\n",
    "        self.DeclareVectorOutputPort(name=\"out\", size=1, calc=self.CalcOutput)\n",
    "\n",
    "    def CalcOutput(self, context, output):\n",
    "        input = self._in_port.Eval(context)\n",
    "        output.set_value(self.gain*input)"
   ]
  },
  {
   "cell_type": "markdown",
   "metadata": {},
   "source": [
    "We build a diagram and simulator to test the functionality of this self-defined gain system"
   ]
  },
  {
   "cell_type": "code",
   "execution_count": null,
   "metadata": {},
   "outputs": [],
   "source": [
    "from pydrake.systems.framework import DiagramBuilder\n",
    "from pydrake.systems.analysis import Simulator\n",
    "\n",
    "builder = DiagramBuilder()\n",
    "gain = Gain(2)\n",
    "builder.AddSystem(gain)\n",
    "builder.ExportInput(gain.GetInputPort(\"in\"))\n",
    "builder.ExportOutput(gain.GetOutputPort(\"out\"))\n",
    "diagram = builder.Build()\n",
    "\n",
    "simulator = Simulator(diagram)\n",
    "context = simulator.get_mutable_context()\n",
    "diagram.get_input_port(0).FixValue(context, 1)\n",
    "simulator.AdvanceTo(0.1)"
   ]
  },
  {
   "cell_type": "markdown",
   "metadata": {},
   "source": [
    "We should expect the output to be 2"
   ]
  },
  {
   "cell_type": "code",
   "execution_count": null,
   "metadata": {},
   "outputs": [],
   "source": [
    "output = diagram.get_output_port(0).Eval(context)\n",
    "print(output)"
   ]
  }
 ],
 "metadata": {
  "kernelspec": {
   "display_name": "Python 3 (ipykernel)",
   "language": "python",
   "name": "python3"
  },
  "language_info": {
   "codemirror_mode": {
    "name": "ipython",
    "version": 3
   },
   "file_extension": ".py",
   "mimetype": "text/x-python",
   "name": "python",
   "nbconvert_exporter": "python",
   "pygments_lexer": "ipython3",
   "version": "3.11.7"
  }
 },
 "nbformat": 4,
 "nbformat_minor": 5
}
