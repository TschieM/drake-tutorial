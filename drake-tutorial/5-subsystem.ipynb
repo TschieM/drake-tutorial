{
 "cells": [
  {
   "cell_type": "markdown",
   "metadata": {},
   "source": [
    "# Introduction\n",
    "\n",
    "Sometimes a subsystem is very helpful for encapsulating a complicated system. In Drake, a subsystem can be created via making a diagram, since diagram is also a system. In another word, if a diagram A contains another diagram B, then diagram B becomes a subsystem of diagram A. Thus a subsystem can be constructed in the same way as is shown in tutorial-1. "
   ]
  },
  {
   "cell_type": "markdown",
   "metadata": {},
   "source": [
    "## Example:\n",
    "\n",
    "we want to create a subsystem, that contains a self-defined gain and an adder provided by Drake. Then we connect this subsystem with a integrator in a bigger diagram, which shall be simulated. The over all system can be expressed as:\n",
    "\n",
    "$ y = \\int{(u_0 + u_1)*2}dt$"
   ]
  },
  {
   "cell_type": "markdown",
   "metadata": {},
   "source": [
    "1. We create a self-defined gain (see tutorial-4)"
   ]
  },
  {
   "cell_type": "code",
   "execution_count": 1,
   "metadata": {},
   "outputs": [],
   "source": [
    "from pydrake.systems.framework import LeafSystem\n",
    "\n",
    "class Gain(LeafSystem):\n",
    "    def __init__(self, gain):\n",
    "        LeafSystem.__init__(self)\n",
    "\n",
    "        self.gain = gain\n",
    "\n",
    "        self._in_port = self.DeclareVectorInputPort(name=\"in\", size=1)\n",
    "        self.DeclareVectorOutputPort(name=\"out\", size=1, calc=self.CalcOutput)\n",
    "\n",
    "    def CalcOutput(self, context, output):\n",
    "        input = self._in_port.Eval(context)\n",
    "        output.set_value(self.gain*input)"
   ]
  },
  {
   "cell_type": "markdown",
   "metadata": {},
   "source": [
    "2. We make a factory class to construct the subsystem (diagram) which contains the gain and an adder"
   ]
  },
  {
   "cell_type": "code",
   "execution_count": 2,
   "metadata": {},
   "outputs": [],
   "source": [
    "from pydrake.systems.framework import DiagramBuilder\n",
    "from pydrake.systems.primitives import Adder\n",
    "\n",
    "class SubsystemFactory():\n",
    "    def __init__(self) -> None:\n",
    "        self.gain = Gain(2)\n",
    "        self.adder = Adder(num_inputs=2, size=1)\n",
    "        self.diagram = None\n",
    "\n",
    "    def create(self):\n",
    "        builder = DiagramBuilder()\n",
    "        builder.AddSystem(self.adder)\n",
    "        builder.AddSystem(self.gain)\n",
    "        builder.Connect(self.adder.GetOutputPort(\"sum\"), self.gain.GetInputPort(\"in\"))\n",
    "        builder.ExportInput(self.adder.GetInputPort(\"u0\"))\n",
    "        builder.ExportInput(self.adder.GetInputPort(\"u1\"))\n",
    "        builder.ExportOutput(self.gain.GetOutputPort(\"out\"))\n",
    "        self.diagram = builder.Build()\n",
    "        return self.diagram"
   ]
  },
  {
   "cell_type": "markdown",
   "metadata": {},
   "source": [
    "3. We Integrate this subsystem into a bigger diagram, we use a logger to log the data (tutorial-3)"
   ]
  },
  {
   "cell_type": "code",
   "execution_count": 4,
   "metadata": {},
   "outputs": [],
   "source": [
    "from pydrake.systems.primitives import Integrator\n",
    "from pydrake.systems.primitives import LogVectorOutput\n",
    "\n",
    "builder = DiagramBuilder()\n",
    "\n",
    "subsystemFactory = SubsystemFactory()\n",
    "subsystem = subsystemFactory.create()\n",
    "integrator = Integrator(1)\n",
    "\n",
    "builder.AddSystem(subsystem)\n",
    "builder.AddSystem(integrator)\n",
    "builder.Connect(subsystem.get_output_port(0), integrator.GetInputPort(\"u0\"))\n",
    "builder.ExportInput(subsystem.get_input_port(0))\n",
    "builder.ExportInput(subsystem.get_input_port(1))\n",
    "builder.ExportOutput(integrator.GetOutputPort(\"y0\"))\n",
    "\n",
    "logger = LogVectorOutput(integrator.GetOutputPort(\"y0\"), builder)\n",
    "logger.set_name(\"logger\")\n",
    "\n",
    "diagram = builder.Build()"
   ]
  },
  {
   "cell_type": "markdown",
   "metadata": {},
   "source": [
    "4. We provide input value and simulate the system"
   ]
  },
  {
   "cell_type": "code",
   "execution_count": 5,
   "metadata": {},
   "outputs": [
    {
     "data": {
      "text/plain": [
       "<pydrake.systems.analysis.SimulatorStatus at 0x10f1d27f0>"
      ]
     },
     "execution_count": 5,
     "metadata": {},
     "output_type": "execute_result"
    }
   ],
   "source": [
    "from pydrake.systems.analysis import Simulator\n",
    "\n",
    "simulator = Simulator(diagram)\n",
    "context = simulator.get_mutable_context()\n",
    "diagram.get_input_port(0).FixValue(context, 1)\n",
    "diagram.get_input_port(1).FixValue(context, 3)\n",
    "\n",
    "simulator.AdvanceTo(1)"
   ]
  },
  {
   "cell_type": "markdown",
   "metadata": {},
   "source": [
    "5. We extract logged data and check the results"
   ]
  },
  {
   "cell_type": "code",
   "execution_count": 6,
   "metadata": {},
   "outputs": [
    {
     "data": {
      "image/png": "[encoded data removed]",
      "text/plain": [
       "<Figure size 640x480 with 1 Axes>"
      ]
     },
     "metadata": {},
     "output_type": "display_data"
    }
   ],
   "source": [
    "import matplotlib.pyplot as plt\n",
    "\n",
    "log = logger.FindLog(simulator.get_context())\n",
    "t = log.sample_times()\n",
    "\n",
    "plt.figure()\n",
    "# Plot theta.\n",
    "plt.plot(t, log.data()[0,:],'.-')\n",
    "plt.show()"
   ]
  }
 ],
 "metadata": {
  "kernelspec": {
   "display_name": ".venv",
   "language": "python",
   "name": "python3"
  },
  "language_info": {
   "codemirror_mode": {
    "name": "ipython",
    "version": 3
   },
   "file_extension": ".py",
   "mimetype": "text/x-python",
   "name": "python",
   "nbconvert_exporter": "python",
   "pygments_lexer": "ipython3",
   "version": "3.11.7"
  }
 },
 "nbformat": 4,
 "nbformat_minor": 2
}
