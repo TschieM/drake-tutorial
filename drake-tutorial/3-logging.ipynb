{
 "cells": [
  {
   "cell_type": "markdown",
   "metadata": {},
   "source": [
    "# Introduction\n",
    "\n",
    "Logging tool is a useful tool to visualize the system dynamics. Drake's VectorLog tool helps on this Topic."
   ]
  },
  {
   "cell_type": "markdown",
   "metadata": {},
   "source": [
    "Fisrtly, let's create a diagram that contains some dynamics.\n",
    "\n",
    "$y = \\int{2}dt$"
   ]
  },
  {
   "cell_type": "code",
   "execution_count": null,
   "metadata": {},
   "outputs": [],
   "source": [
    "from pydrake.systems.framework import DiagramBuilder\n",
    "from pydrake.systems.primitives import Integrator, Gain\n",
    "\n",
    "builder = DiagramBuilder()\n",
    "# integrator with size=1 (one element to be integrated)\n",
    "integrator = Integrator(1)\n",
    "gain = Gain(k=2, size=1)\n",
    "builder.AddSystem(integrator)\n",
    "builder.AddSystem(gain)\n",
    "builder.Connect(gain.GetOutputPort(\"y0\"), integrator.GetInputPort(\"u0\"))\n",
    "builder.ExportInput(gain.GetInputPort(\"u0\"))\n",
    "builder.ExportOutput(integrator.GetOutputPort(\"y0\"))"
   ]
  },
  {
   "cell_type": "markdown",
   "metadata": {},
   "source": [
    "Before building the diagram, we need to add logger to log the desired signal (output). To use LogVectorOutput, we need to give the builder it belongs to. So we need to instantiate the logger befor calling the Build() method"
   ]
  },
  {
   "cell_type": "code",
   "execution_count": null,
   "metadata": {},
   "outputs": [],
   "source": [
    "from pydrake.systems.primitives import LogVectorOutput\n",
    "\n",
    "logger = LogVectorOutput(integrator.GetOutputPort(\"y0\"), builder)\n",
    "logger.set_name(\"logger\")"
   ]
  },
  {
   "cell_type": "markdown",
   "metadata": {},
   "source": [
    "Now build the whole diagram (with the logger)"
   ]
  },
  {
   "cell_type": "code",
   "execution_count": null,
   "metadata": {},
   "outputs": [],
   "source": [
    "diagram = builder.Build()"
   ]
  },
  {
   "cell_type": "markdown",
   "metadata": {},
   "source": [
    "Create a simulator and run the simulation for 1 second"
   ]
  },
  {
   "cell_type": "code",
   "execution_count": null,
   "metadata": {},
   "outputs": [],
   "source": [
    "from pydrake.systems.analysis import Simulator\n",
    "\n",
    "simulator = Simulator(diagram)\n",
    "context = simulator.get_mutable_context()\n",
    "diagram.get_input_port(0).FixValue(context, 1)\n",
    "simulator.AdvanceTo(1.0)"
   ]
  },
  {
   "cell_type": "markdown",
   "metadata": {},
   "source": [
    "The logged data are stored in the simulator context, after the simulation finishes, we can extract it. "
   ]
  },
  {
   "cell_type": "code",
   "execution_count": null,
   "metadata": {},
   "outputs": [],
   "source": [
    "log = logger.FindLog(simulator.get_context())\n",
    "t = log.sample_times()"
   ]
  },
  {
   "cell_type": "markdown",
   "metadata": {},
   "source": [
    "To visualize the result, we use matplotlib"
   ]
  },
  {
   "cell_type": "code",
   "execution_count": null,
   "metadata": {},
   "outputs": [],
   "source": [
    "import matplotlib.pyplot as plt\n",
    "\n",
    "plt.figure()\n",
    "# Plot theta.\n",
    "plt.plot(t, log.data()[0,:],'.-')\n",
    "plt.show()"
   ]
  }
 ],
 "metadata": {
  "kernelspec": {
   "display_name": ".venv",
   "language": "python",
   "name": "python3"
  },
  "language_info": {
   "codemirror_mode": {
    "name": "ipython",
    "version": 3
   },
   "file_extension": ".py",
   "mimetype": "text/x-python",
   "name": "python",
   "nbconvert_exporter": "python",
   "pygments_lexer": "ipython3",
   "version": "3.11.7"
  }
 },
 "nbformat": 4,
 "nbformat_minor": 2
}
