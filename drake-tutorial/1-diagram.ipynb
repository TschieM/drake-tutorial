{
 "cells": [
  {
   "cell_type": "markdown",
   "metadata": {},
   "source": [
    "# Introduction\n",
    "A Diagram is the object that will be simulated. It can be created via a DiagramBuilder"
   ]
  },
  {
   "cell_type": "code",
   "execution_count": null,
   "metadata": {},
   "outputs": [],
   "source": [
    "from pydrake.systems.framework import DiagramBuilder\n",
    "\n",
    "builder = DiagramBuilder()"
   ]
  },
  {
   "cell_type": "markdown",
   "metadata": {},
   "source": [
    "Just like Simulink, Drake provides various libraries like integerator, adder, constant, etc  "
   ]
  },
  {
   "cell_type": "code",
   "execution_count": null,
   "metadata": {},
   "outputs": [],
   "source": [
    "from pydrake.systems.primitives import Adder, Gain\n",
    "\n",
    "adder = Adder(num_inputs=2, size=1)\n",
    "gain = Gain(k=2, size=1)"
   ]
  },
  {
   "cell_type": "markdown",
   "metadata": {},
   "source": [
    "Diagram is a System composed of one or more constituent Systems, arranged in a directed graph where the vertices are the constituent Systems themselves, and the edges connect the output of one constituent System to the input of another. Diagrambuilder gives function to connect systems to build a larger and more complicated system. "
   ]
  },
  {
   "cell_type": "code",
   "execution_count": null,
   "metadata": {},
   "outputs": [],
   "source": [
    "builder.AddSystem(adder)\n",
    "builder.AddSystem(gain)\n",
    "\n",
    "builder.Connect(adder.GetOutputPort(\"sum\"), gain.GetInputPort(\"u0\"))\n"
   ]
  },
  {
   "cell_type": "markdown",
   "metadata": {},
   "source": [
    "Now the compoenents of the diagram are connect, the diagram is still missing the input and output ports. The diagram's input and output port shall come from its systems, so export the adder's input ports and gain's output ports to the diagram."
   ]
  },
  {
   "cell_type": "code",
   "execution_count": null,
   "metadata": {},
   "outputs": [],
   "source": [
    "builder.ExportInput(adder.GetInputPort(\"u0\"))\n",
    "builder.ExportInput(adder.GetInputPort(\"u1\"))\n",
    "builder.ExportOutput(gain.GetOutputPort(\"y0\"))"
   ]
  },
  {
   "cell_type": "markdown",
   "metadata": {},
   "source": [
    "Now the diagram is complet, use Build method to construct the diagram"
   ]
  },
  {
   "cell_type": "code",
   "execution_count": null,
   "metadata": {},
   "outputs": [],
   "source": [
    "diagram = builder.Build()"
   ]
  },
  {
   "cell_type": "markdown",
   "metadata": {},
   "source": [
    "# Finishing\n",
    " To visualize the diagram for easier checking (you need graphviz installed on your system)."
   ]
  },
  {
   "cell_type": "code",
   "execution_count": null,
   "metadata": {},
   "outputs": [],
   "source": [
    "import pydot\n",
    "from IPython.display import SVG, display\n",
    "\n",
    "display(SVG(pydot.graph_from_dot_data(\n",
    "    diagram.GetGraphvizString(max_depth=2))[0].create_svg()))"
   ]
  },
  {
   "cell_type": "markdown",
   "metadata": {},
   "source": [
    "For simulating the results, please refer to 2-simulator tutorial"
   ]
  }
 ],
 "metadata": {
  "kernelspec": {
   "display_name": ".venv",
   "language": "python",
   "name": "python3"
  },
  "language_info": {
   "codemirror_mode": {
    "name": "ipython",
    "version": 3
   },
   "file_extension": ".py",
   "mimetype": "text/x-python",
   "name": "python",
   "nbconvert_exporter": "python",
   "pygments_lexer": "ipython3",
   "version": "3.11.7"
  }
 },
 "nbformat": 4,
 "nbformat_minor": 2
}
